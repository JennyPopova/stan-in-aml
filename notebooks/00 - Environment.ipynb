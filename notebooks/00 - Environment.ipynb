{
 "cells": [
  {
   "cell_type": "markdown",
   "metadata": {},
   "source": [
    "## Creating an AzureML Environment for Stan\n",
    "First, we'll create a Docker container by way of an AzureML Environment. \n",
    "\n",
    "For this, I've written a [Dockerfile](../Dockerfile) that downloads and installs Stan. This is based on the IntelMPI image published by the Azure ML team. (You can find the Dockerfile for that image [here](https://github.com/Azure/AzureML-Containers/blob/master/base/cpu/intelmpi2018.3-ubuntu16.04/Dockerfile).)"
   ]
  },
  {
   "cell_type": "code",
   "execution_count": null,
   "metadata": {},
   "outputs": [],
   "source": [
    "from azureml.core import Workspace, Environment\n",
    "\n",
    "ws = Workspace.from_config()"
   ]
  },
  {
   "cell_type": "markdown",
   "metadata": {},
   "source": [
    "For this example, we've built the Dockerfile and pushed it to the Azure Container Registry that was created with AML. It is possible to pass the Dockerfile text as a parameter to the Environment, but as of January 27th, 2020 this is not supported in ML Pipelines.\n",
    "\n",
    "\n",
    "```python\n",
    "# Read our Dockerfile into a Python string object. \n",
    "with open('../Dockerfile', 'r') as file_obj:\n",
    "    docker_file = file_obj.read()\n",
    "```\n",
    "\n",
    "```python\n",
    "env.docker.base_image = None\n",
    "env.docker.base_dockerfile = docker_file\n",
    "```"
   ]
  },
  {
   "cell_type": "code",
   "execution_count": null,
   "metadata": {},
   "outputs": [],
   "source": [
    "# Instatiate an Environment object from AML. We've named it 'stan-intelmpi'\n",
    "env = Environment('stan-intelmpi')\n",
    "\n",
    "# Next, set the Docker settings for the environment - first setting Docker to enabled, then setting the \n",
    "# base_dockerfile property to the Docker string we published before.\n",
    "# Note - we set the base_image property to None - as base_image and base_dockerfile are mutually exclusive\n",
    "env.docker.enabled = True\n",
    "env.docker.base_image = \"amldemocr.azurecr.io/cmdstan:intelmpi2018.3-ubuntu16.04-stan2.21\"\n",
    "env.docker.base_dockerfile = None\n",
    "\n",
    "# Next, set the Python settings. This will set the pip or conda packages that need to be installed in the container.\n",
    "env.python.conda_dependencies.set_python_version('3.7.6')\n",
    "env.python.conda_dependencies.add_pip_package('azureml-defaults')\n",
    "env.python.conda_dependencies.add_pip_package('cmdstanpy==0.8.0')\n",
    "env.python.conda_dependencies.add_pip_package('mpi4py==3.0.3')\n",
    "env.python.conda_dependencies.add_pip_package('azureml-dataprep[fuse,pandas]')\n",
    "\n",
    "# Finally, register the environment.\n",
    "env = env.register(ws)"
   ]
  },
  {
   "cell_type": "code",
   "execution_count": null,
   "metadata": {},
   "outputs": [],
   "source": [
    "# This is NOT required, but you can prebuild the Docker container by running the env.build step.\n",
    "# If you choose not to do this, the container will be build the first time you submit the model for building\n",
    "\n",
    "env_build = env.build(ws)\n",
    "env_build.wait_for_completion(show_output=True)"
   ]
  },
  {
   "cell_type": "code",
   "execution_count": null,
   "metadata": {},
   "outputs": [],
   "source": []
  }
 ],
 "metadata": {
  "kernelspec": {
   "display_name": "Python 3.6 - AzureML",
   "language": "python",
   "name": "python3-azureml"
  },
  "language_info": {
   "codemirror_mode": {
    "name": "ipython",
    "version": 3
   },
   "file_extension": ".py",
   "mimetype": "text/x-python",
   "name": "python",
   "nbconvert_exporter": "python",
   "pygments_lexer": "ipython3",
   "version": "3.6.9"
  }
 },
 "nbformat": 4,
 "nbformat_minor": 4
}
